{
 "cells": [
  {
   "cell_type": "code",
   "execution_count": 3,
   "id": "99062ff4-3429-4398-af81-a9e248894c59",
   "metadata": {},
   "outputs": [
    {
     "name": "stdout",
     "output_type": "stream",
     "text": [
      "Welcome to Assignment-1\n"
     ]
    }
   ],
   "source": [
    "print(\"Welcome to Assignment-1\")"
   ]
  },
  {
   "cell_type": "code",
   "execution_count": 7,
   "id": "f0ab5e14-2033-4f8a-b65a-cbfb178a03fb",
   "metadata": {},
   "outputs": [
    {
     "name": "stdin",
     "output_type": "stream",
     "text": [
      "Enter the number 10\n",
      "Enter the number 30\n"
     ]
    },
    {
     "name": "stdout",
     "output_type": "stream",
     "text": [
      "Num1 =  10\n",
      "Num2 =  30\n",
      "Add =  40\n"
     ]
    }
   ],
   "source": [
    "Num1 = int(input(\"Enter the number\"))\n",
    "Num2 = int(input(\"Enter the number\"))\n",
    "Add = Num1+Num2\n",
    "print(\"Num1 = \", Num1)\n",
    "print(\"Num2 = \", Num2)\n",
    "print(\"Add = \", Add)"
   ]
  },
  {
   "cell_type": "code",
   "execution_count": 9,
   "id": "e9144bfd-e904-4299-a1a5-14e46ac6c941",
   "metadata": {},
   "outputs": [
    {
     "name": "stdin",
     "output_type": "stream",
     "text": [
      "Enter the BMI index : 34\n"
     ]
    },
    {
     "name": "stdout",
     "output_type": "stream",
     "text": [
      "Over weight\n"
     ]
    }
   ],
   "source": [
    "BMI = int(input(\"Enter the BMI index :\"))\n",
    "if (BMI<18):\n",
    "    print(\"underweight\")\n",
    "elif (BMI<18.5):\n",
    "    print(\"thin for height\")\n",
    "elif (BMI<25):\n",
    "    print(\"healthy weight\")\n",
    "else:\n",
    "    print(\"Over weight\")"
   ]
  },
  {
   "cell_type": "code",
   "execution_count": null,
   "id": "318b9106-bf83-4f43-88bf-1172821d1939",
   "metadata": {},
   "outputs": [],
   "source": []
  }
 ],
 "metadata": {
  "kernelspec": {
   "display_name": "Python 3 (ipykernel)",
   "language": "python",
   "name": "python3"
  },
  "language_info": {
   "codemirror_mode": {
    "name": "ipython",
    "version": 3
   },
   "file_extension": ".py",
   "mimetype": "text/x-python",
   "name": "python",
   "nbconvert_exporter": "python",
   "pygments_lexer": "ipython3",
   "version": "3.12.7"
  }
 },
 "nbformat": 4,
 "nbformat_minor": 5
}
