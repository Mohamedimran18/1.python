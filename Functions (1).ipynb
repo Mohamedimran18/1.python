{
 "cells": [
  {
   "cell_type": "code",
   "execution_count": 5,
   "id": "a8874c52-1942-4ad2-90dc-a1d05a20517e",
   "metadata": {},
   "outputs": [
    {
     "name": "stdout",
     "output_type": "stream",
     "text": [
      "Sub-fields in AI are:\n",
      "Machine Learning\n",
      "Neural Networks\n",
      "Vision\n",
      "Robotics\n",
      "Speech Reognition\n",
      "Natural Language Processing\n"
     ]
    }
   ],
   "source": [
    "def Subfields():\n",
    "    print(\"Sub-fields in AI are:\")\n",
    "    print(\"Machine Learning\")\n",
    "    print(\"Neural Networks\")\n",
    "    print(\"Vision\")\n",
    "    print(\"Robotics\")\n",
    "    print(\"Speech Reognition\")\n",
    "    print(\"Natural Language Processing\")\n",
    "Subfields()"
   ]
  },
  {
   "cell_type": "code",
   "execution_count": 17,
   "id": "bff03b27-e23e-41ea-8b9a-ca8381ca8ff2",
   "metadata": {},
   "outputs": [
    {
     "name": "stdin",
     "output_type": "stream",
     "text": [
      "Enter a number: 52452\n"
     ]
    },
    {
     "name": "stdout",
     "output_type": "stream",
     "text": [
      "52452 Even number\n"
     ]
    },
    {
     "data": {
      "text/plain": [
       "'Even number'"
      ]
     },
     "execution_count": 17,
     "metadata": {},
     "output_type": "execute_result"
    }
   ],
   "source": [
    "def OddEven():\n",
    "    num = int(input(\"Enter a number:\"))\n",
    "    if (num%2==0):\n",
    "              print(num,\"Even number\")\n",
    "              message = 'Even number'   \n",
    "    else:\n",
    "              print(num,\"odd number\")\n",
    "              message = 'Odd number'    \n",
    "    return message\n",
    "OddEven()"
   ]
  },
  {
   "cell_type": "code",
   "execution_count": 41,
   "id": "c806d682-7b38-4872-aa54-ea50bfb03234",
   "metadata": {},
   "outputs": [
    {
     "name": "stdin",
     "output_type": "stream",
     "text": [
      "your gender Male\n",
      "your age 20\n"
     ]
    },
    {
     "name": "stdout",
     "output_type": "stream",
     "text": [
      "not eligible\n"
     ]
    },
    {
     "data": {
      "text/plain": [
       "'not eligible'"
      ]
     },
     "execution_count": 41,
     "metadata": {},
     "output_type": "execute_result"
    }
   ],
   "source": [
    "def Elegible():\n",
    "    gender = input(\"your gender\")\n",
    "    age = int(input(\"your age\"))\n",
    "    if(gender==\"Male\" and age<21):\n",
    "              print(\"not eligible\")\n",
    "              message = 'not eligible'\n",
    "    elif(gender==\"Female\" and age<18):\n",
    "              print(\"not eligible\")\n",
    "              message = \"not eligible\"\n",
    "    else:\n",
    "              print(\"Eligible\")\n",
    "              message = \"Eligible\"\n",
    "    return message\n",
    "Elegible()"
   ]
  },
  {
   "cell_type": "code",
   "execution_count": 51,
   "id": "1a197228-2531-498d-90ac-45780607c71a",
   "metadata": {},
   "outputs": [
    {
     "name": "stdout",
     "output_type": "stream",
     "text": [
      "sub1 98\n",
      "sub2 87\n",
      "sub3 95\n",
      "sub4 95\n",
      "sub5 93\n",
      "Total 468\n",
      "Percentage 93.6\n"
     ]
    }
   ],
   "source": [
    "def percentge(sub1,sub2,sub3,sub4,sub5):\n",
    "    print(\"sub1\", sub1)\n",
    "    print(\"sub2\", sub2)\n",
    "    print(\"sub3\", sub3)\n",
    "    print(\"sub4\", sub4)\n",
    "    print(\"sub5\", sub5)\n",
    "    Total = sub1+sub2+sub3+sub4+sub5\n",
    "    print(\"Total\",Total)\n",
    "    print(\"Percentage\",Total/5)\n",
    "percentge(98,87,95,95,93)"
   ]
  },
  {
   "cell_type": "code",
   "execution_count": 57,
   "id": "f85df23a-e5b7-407b-ac5e-22ac1d826e53",
   "metadata": {},
   "outputs": [
    {
     "name": "stdout",
     "output_type": "stream",
     "text": [
      "Height: 32\n",
      "Breadth: 34\n",
      "Area of Triangle 544.0\n",
      "Height1: 2\n",
      "Height2: 4\n",
      "Breadth: 4\n",
      "Perimeter of Triangle 10\n"
     ]
    },
    {
     "data": {
      "text/plain": [
       "10"
      ]
     },
     "execution_count": 57,
     "metadata": {},
     "output_type": "execute_result"
    }
   ],
   "source": [
    "def triangle(height,breadth ,height1,height2,Breadth):\n",
    "    print(\"Height:\", height)\n",
    "    print(\"Breadth:\", breadth)\n",
    "    area = height*breadth/2\n",
    "    print(\"Area of Triangle\", area)\n",
    "    message=area\n",
    "    print(\"Height1:\",height1)\n",
    "    print(\"Height2:\",height2)\n",
    "    print(\"Breadth:\",Breadth)\n",
    "    perimeter=height1+height2+Breadth\n",
    "    print(\"Perimeter of Triangle\", perimeter)\n",
    "    message=perimeter\n",
    "    return message\n",
    "triangle(32,34,2,4,4,) \n",
    "   \n",
    "    "
   ]
  },
  {
   "cell_type": "code",
   "execution_count": null,
   "id": "cbf642bd-0bc4-4ad7-ac47-4c31404fcc43",
   "metadata": {},
   "outputs": [],
   "source": []
  }
 ],
 "metadata": {
  "kernelspec": {
   "display_name": "Python 3 (ipykernel)",
   "language": "python",
   "name": "python3"
  },
  "language_info": {
   "codemirror_mode": {
    "name": "ipython",
    "version": 3
   },
   "file_extension": ".py",
   "mimetype": "text/x-python",
   "name": "python",
   "nbconvert_exporter": "python",
   "pygments_lexer": "ipython3",
   "version": "3.12.7"
  }
 },
 "nbformat": 4,
 "nbformat_minor": 5
}
