{
 "cells": [
  {
   "cell_type": "code",
   "execution_count": 3,
   "id": "b2492385-b8a8-466e-a9da-c8b6ad16f69a",
   "metadata": {},
   "outputs": [
    {
     "name": "stdout",
     "output_type": "stream",
     "text": [
      "Sub-fields in AI are:\n",
      "Machine Learning\n",
      "Neural Networks\n",
      "Vision\n",
      "Robotics\n",
      "Speech Reognition\n",
      "Natural Language Processing\n"
     ]
    }
   ],
   "source": [
    "class SubfieldsInAI():\n",
    "    def Subfields():\n",
    "        print(\"Sub-fields in AI are:\")\n",
    "        print(\"Machine Learning\")\n",
    "        print(\"Neural Networks\")\n",
    "        print(\"Vision\")\n",
    "        print(\"Robotics\")\n",
    "        print(\"Speech Reognition\")\n",
    "        print(\"Natural Language Processing\")\n",
    "SubfieldsInAI.Subfields()"
   ]
  },
  {
   "cell_type": "code",
   "execution_count": 5,
   "id": "3035c342-027c-4e7c-88dd-372a2f6addcd",
   "metadata": {},
   "outputs": [
    {
     "name": "stdin",
     "output_type": "stream",
     "text": [
      "Enter a number: 52452\n"
     ]
    },
    {
     "name": "stdout",
     "output_type": "stream",
     "text": [
      "52452 Even number\n"
     ]
    },
    {
     "data": {
      "text/plain": [
       "'Even number'"
      ]
     },
     "execution_count": 5,
     "metadata": {},
     "output_type": "execute_result"
    }
   ],
   "source": [
    "class OddEven():\n",
    "    def OddEven():\n",
    "        num = int(input(\"Enter a number:\"))\n",
    "        if (num%2==0):\n",
    "                  print(num,\"Even number\")\n",
    "                  message = 'Even number'   \n",
    "        else:\n",
    "                  print(num,\"odd number\")\n",
    "                  message = 'Odd number'    \n",
    "        return message\n",
    "OddEven.OddEven()"
   ]
  },
  {
   "cell_type": "code",
   "execution_count": 7,
   "id": "087cca1e-ff80-4279-820a-b84c6c5b50e6",
   "metadata": {},
   "outputs": [
    {
     "name": "stdin",
     "output_type": "stream",
     "text": [
      "your gender Male\n",
      "your age 20\n"
     ]
    },
    {
     "name": "stdout",
     "output_type": "stream",
     "text": [
      "not eligible\n"
     ]
    },
    {
     "data": {
      "text/plain": [
       "'not eligible'"
      ]
     },
     "execution_count": 7,
     "metadata": {},
     "output_type": "execute_result"
    }
   ],
   "source": [
    "class ElegiblityForMarriage():\n",
    "    def Elegible():\n",
    "        gender = input(\"your gender\")\n",
    "        age = int(input(\"your age\"))\n",
    "        if(gender==\"Male\" and age<21):\n",
    "                  print(\"not eligible\")\n",
    "                  message = 'not eligible'\n",
    "        elif(gender==\"Female\" and age<18):\n",
    "                  print(\"not eligible\")\n",
    "                  message = \"not eligible\"\n",
    "        else:\n",
    "                  print(\"Eligible\")\n",
    "                  message = \"Eligible\"\n",
    "        return message\n",
    "ElegiblityForMarriage.Elegible()"
   ]
  },
  {
   "cell_type": "code",
   "execution_count": 12,
   "id": "16e11d4c-db1c-4b11-b553-a122be6a242b",
   "metadata": {},
   "outputs": [
    {
     "name": "stdout",
     "output_type": "stream",
     "text": [
      "sub1 98\n",
      "sub2 87\n",
      "sub3 95\n",
      "sub4 95\n",
      "sub5 93\n",
      "Total 468\n",
      "Percentage 93.6\n"
     ]
    }
   ],
   "source": [
    "class FindPercent():\n",
    "    def percentge(sub1,sub2,sub3,sub4,sub5):\n",
    "        print(\"sub1\", sub1)\n",
    "        print(\"sub2\", sub2)\n",
    "        print(\"sub3\", sub3)\n",
    "        print(\"sub4\", sub4)\n",
    "        print(\"sub5\", sub5)\n",
    "        Total = sub1+sub2+sub3+sub4+sub5\n",
    "        print(\"Total\",Total)\n",
    "        print(\"Percentage\",Total/5)\n",
    "FindPercent.percentge(98,87,95,95,93)"
   ]
  },
  {
   "cell_type": "code",
   "execution_count": 14,
   "id": "91637474-e95b-4e23-8144-820b2cb49af4",
   "metadata": {},
   "outputs": [
    {
     "name": "stdout",
     "output_type": "stream",
     "text": [
      "Height: 32\n",
      "Breadth: 34\n",
      "Area of Triangle 544.0\n",
      "Height1: 2\n",
      "Height2: 4\n",
      "Breadth: 4\n",
      "Perimeter of Triangle 10\n"
     ]
    },
    {
     "data": {
      "text/plain": [
       "10"
      ]
     },
     "execution_count": 14,
     "metadata": {},
     "output_type": "execute_result"
    }
   ],
   "source": [
    "class triangle():\n",
    "    def triangle(height,breadth ,height1,height2,Breadth):\n",
    "        print(\"Height:\", height)\n",
    "        print(\"Breadth:\", breadth)\n",
    "        area = height*breadth/2\n",
    "        print(\"Area formula\n",
    "        print(\"Area of Triangle\", area)\n",
    "        message=area\n",
    "        print(\"Height1:\",height1)\n",
    "        print(\"Height2:\",height2)\n",
    "        print(\"Breadth:\",Breadth)\n",
    "        perimeter=height1+height2+Breadth\n",
    "        print(\"Perimeter of Triangle\", perimeter)\n",
    "        message=perimeter\n",
    "        return message\n",
    "triangle.triangle(32,34,2,4,4,) \n",
    "   "
   ]
  },
  {
   "cell_type": "code",
   "execution_count": null,
   "id": "1307009b-ce4e-4f63-9aec-605dc7c88019",
   "metadata": {},
   "outputs": [],
   "source": []
  }
 ],
 "metadata": {
  "kernelspec": {
   "display_name": "Python 3 (ipykernel)",
   "language": "python",
   "name": "python3"
  },
  "language_info": {
   "codemirror_mode": {
    "name": "ipython",
    "version": 3
   },
   "file_extension": ".py",
   "mimetype": "text/x-python",
   "name": "python",
   "nbconvert_exporter": "python",
   "pygments_lexer": "ipython3",
   "version": "3.12.7"
  }
 },
 "nbformat": 4,
 "nbformat_minor": 5
}
