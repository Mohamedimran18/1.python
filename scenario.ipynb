{
 "cells": [
  {
   "cell_type": "code",
   "execution_count": 3,
   "id": "4d49e47b-49e5-4d9d-b1b9-10d32aee2410",
   "metadata": {},
   "outputs": [
    {
     "name": "stdin",
     "output_type": "stream",
     "text": [
      "Enter your Age: 18\n"
     ]
    },
    {
     "name": "stdout",
     "output_type": "stream",
     "text": [
      "you are eligible to vote\n"
     ]
    }
   ],
   "source": [
    "age = int(input(\"Enter your Age:\"))\n",
    "if age>=18:\n",
    "    print(\"you are eligible to vote\")\n",
    "else:\n",
    "    print(\"not eligible\")"
   ]
  },
  {
   "cell_type": "code",
   "execution_count": 5,
   "id": "d6094612-06f9-484e-ad1b-f156a5794cc0",
   "metadata": {},
   "outputs": [
    {
     "name": "stdout",
     "output_type": "stream",
     "text": [
      "The largest number is: 11\n"
     ]
    }
   ],
   "source": [
    "numbers = [4, 2, 8, 0, 11, 6]\n",
    "if not numbers:\n",
    "    print(\"List is empty\")\n",
    "else:\n",
    "    largest = numbers[0]  \n",
    "\n",
    "    for number in numbers[1:]:\n",
    "        if number > largest:\n",
    "            largest = number  \n",
    "    print(\"The largest number is:\", largest)\n"
   ]
  },
  {
   "cell_type": "code",
   "execution_count": 9,
   "id": "22708c05-4707-4a2f-a86e-ac7c97c49f6c",
   "metadata": {},
   "outputs": [
    {
     "name": "stdout",
     "output_type": "stream",
     "text": [
      "6000.0\n"
     ]
    }
   ],
   "source": [
    "sal = 60000\n",
    "bonus = 0\n",
    "if sal > 50000:\n",
    "    bonus = sal*0.10\n",
    "print(bonus)"
   ]
  },
  {
   "cell_type": "code",
   "execution_count": 11,
   "id": "6d43db01-adb2-447c-89f5-d9e0a57ef6d7",
   "metadata": {},
   "outputs": [
    {
     "name": "stdin",
     "output_type": "stream",
     "text": [
      "enter a number 2\n"
     ]
    },
    {
     "name": "stdout",
     "output_type": "stream",
     "text": [
      "even number\n"
     ]
    }
   ],
   "source": [
    "num = int(input(\"enter a number\"))\n",
    "if num%2==1:\n",
    "    print(\"odd numbr\")\n",
    "else:\n",
    "    print(\"even number\")"
   ]
  },
  {
   "cell_type": "code",
   "execution_count": 13,
   "id": "5c164a12-e105-49f9-9249-c7df3b6e8448",
   "metadata": {},
   "outputs": [
    {
     "name": "stdin",
     "output_type": "stream",
     "text": [
      "Eneter a word Hello\n"
     ]
    },
    {
     "name": "stdout",
     "output_type": "stream",
     "text": [
      "olleH\n"
     ]
    }
   ],
   "source": [
    "word = input(\"Eneter a word\")\n",
    "rev_word = word[::-1]\n",
    "print(rev_word)"
   ]
  },
  {
   "cell_type": "code",
   "execution_count": 15,
   "id": "2296acb4-58f9-4970-b2fa-b07238469029",
   "metadata": {},
   "outputs": [
    {
     "name": "stdin",
     "output_type": "stream",
     "text": [
      "enter your mark 50\n"
     ]
    },
    {
     "name": "stdout",
     "output_type": "stream",
     "text": [
      "Pass\n"
     ]
    }
   ],
   "source": [
    "mark = int(input(\"enter your mark\"))\n",
    "if mark < 40:\n",
    "    print(\"Fail\")\n",
    "else:\n",
    "    print(\"Pass\")"
   ]
  },
  {
   "cell_type": "code",
   "execution_count": 21,
   "id": "f55226ff-378c-4e4d-b651-22a36bab05ac",
   "metadata": {},
   "outputs": [
    {
     "name": "stdin",
     "output_type": "stream",
     "text": [
      "enter the total amount 200\n"
     ]
    },
    {
     "name": "stdout",
     "output_type": "stream",
     "text": [
      "discount 40.0\n",
      "Final amount 160.0\n"
     ]
    }
   ],
   "source": [
    "total = float(input(\"enter the total amount\"))\n",
    "discount = 0\n",
    "if total>100:\n",
    "    discount = total*0.20\n",
    "final_total = total-discount\n",
    "print(\"discount\",discount)\n",
    "print(\"Final amount\", final_total)"
   ]
  },
  {
   "cell_type": "code",
   "execution_count": 23,
   "id": "e2e08c70-3fd9-43e2-a544-ebf8bf15c149",
   "metadata": {},
   "outputs": [
    {
     "name": "stdin",
     "output_type": "stream",
     "text": [
      "Enter your balance: 10000\n",
      "Enter withdrawal amount 3000\n"
     ]
    },
    {
     "name": "stdout",
     "output_type": "stream",
     "text": [
      "withdrwal successful\n",
      "Remaining balance: 7000.0\n"
     ]
    }
   ],
   "source": [
    "balance = float(input(\"Enter your balance:\"))\n",
    "withdraw_amt = float(input(\"Enter withdrawal amount\"))\n",
    "\n",
    "if withdraw_amt <= balance:\n",
    "    balance -= withdraw_amt\n",
    "    print(\"withdrwal successful\")\n",
    "    print(\"Remaining balance:\", balance)\n",
    "else:\n",
    "    print(\"Insufficient funds\")\n",
    "    print(\"Available balance:\", balane)"
   ]
  },
  {
   "cell_type": "code",
   "execution_count": 25,
   "id": "b1219870-e7d6-45fd-aa2f-cae358b72d73",
   "metadata": {},
   "outputs": [
    {
     "name": "stdin",
     "output_type": "stream",
     "text": [
      "Enter a year: 2000\n"
     ]
    },
    {
     "name": "stdout",
     "output_type": "stream",
     "text": [
      "2000 is a leap year\n"
     ]
    }
   ],
   "source": [
    "year = int(input(\"Enter a year:\"))\n",
    "if (year%4==0 and year % 100 != 0) or (year % 400 == 0):\n",
    "    print(year, \"is a leap year\")\n",
    "else:\n",
    "    print(year, \"is not a leap year\")"
   ]
  },
  {
   "cell_type": "code",
   "execution_count": null,
   "id": "b33f239a-7914-45b8-afce-44becac2e1e3",
   "metadata": {},
   "outputs": [],
   "source": []
  }
 ],
 "metadata": {
  "kernelspec": {
   "display_name": "Python 3 (ipykernel)",
   "language": "python",
   "name": "python3"
  },
  "language_info": {
   "codemirror_mode": {
    "name": "ipython",
    "version": 3
   },
   "file_extension": ".py",
   "mimetype": "text/x-python",
   "name": "python",
   "nbconvert_exporter": "python",
   "pygments_lexer": "ipython3",
   "version": "3.12.7"
  }
 },
 "nbformat": 4,
 "nbformat_minor": 5
}
